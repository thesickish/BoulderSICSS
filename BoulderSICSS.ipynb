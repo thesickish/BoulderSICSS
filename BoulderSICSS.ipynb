{
 "cells": [
  {
   "cell_type": "markdown",
   "metadata": {},
   "source": [
    "<h1>Constructing Ego Networks from Retweets</h1>"
   ]
  },
  {
   "cell_type": "markdown",
   "metadata": {},
   "source": [
    "Yotam Shmargad<br>\n",
    "University of Arizona<br>\n",
    "Email: yotam@email.arizona.edu<br>\n",
    "Web: www.yotamshmargad.com"
   ]
  },
  {
   "cell_type": "markdown",
   "metadata": {},
   "source": [
    "<h2>Introduction</h2><br>\n",
    "Twitter has become a prominent online social network, playing a major role in how people all over the world share and consume information. Moreover, while some social networks have made it difficult for researchers to extract data from their servers, Twitter remains relatively open for now. This tutorial will go through the details of how to construct a Twitter user’s ego network from retweets they have received on their tweets. Instead of focusing on who follows who on Twitter, the method instead conceptualizes edges as existing between users if they have recently retweeted each other.<br><br>\n",
    "Conceptualizing edges as retweets has two primary benefits. First, it captures recent interactions between users rather than decisions that they may have made long ago (i.e. following each other) that may not translate into meaningful interaction today. Second, users often have many more followers than they do retweeters. The method proposed can thus be used to analyze even relatively popular users. The code goes through obtaining authorization from Twitter, taking into account the limits that Twitter imposes on data extraction, and handling errors generated from deleted tweets or users."
   ]
  },
  {
   "cell_type": "markdown",
   "metadata": {},
   "source": [
    "<h2>1. Importing libraries and getting Twitter's approval</h2>"
   ]
  },
  {
   "cell_type": "code",
   "execution_count": null,
   "metadata": {},
   "outputs": [],
   "source": [
    "# Install tweepy\n",
    "# !pip install tweepy"
   ]
  },
  {
   "cell_type": "code",
   "execution_count": null,
   "metadata": {},
   "outputs": [],
   "source": [
    "# Import the libraries we need\n",
    "import tweepy\n",
    "import json\n",
    "import time\n",
    "import networkx\n",
    "import os\n",
    "import matplotlib.pyplot as plt\n",
    "from collections import Counter"
   ]
  },
  {
   "cell_type": "code",
   "execution_count": null,
   "metadata": {},
   "outputs": [],
   "source": [
    "# Authenticate!\n",
    "auth = tweepy.OAuthHandler(\"Consumer Key\", \"Consumer Secret\")\n",
    "auth.set_access_token(\"Access Token\", \"Access Token Secret\")\n",
    "\n",
    "api = tweepy.API(auth)"
   ]
  },
  {
   "cell_type": "code",
   "execution_count": null,
   "metadata": {},
   "outputs": [],
   "source": [
    "# Check working directory\n",
    "os.getcwd()"
   ]
  },
  {
   "cell_type": "code",
   "execution_count": null,
   "metadata": {},
   "outputs": [],
   "source": [
    "# Set working directory\n",
    "os.chdir('FOLDER FOR SAVING FILES')"
   ]
  },
  {
   "cell_type": "code",
   "execution_count": null,
   "metadata": {},
   "outputs": [],
   "source": [
    "# Check working directory\n",
    "os.getcwd()"
   ]
  },
  {
   "cell_type": "markdown",
   "metadata": {},
   "source": [
    "<h2>2. Pulling ego tweets</h2>"
   ]
  },
  {
   "cell_type": "code",
   "execution_count": null,
   "metadata": {},
   "outputs": [],
   "source": [
    "# Keep track of API calls\n",
    "# User timeline\n",
    "callsUT = 0\n",
    "\n",
    "# Retweeters\n",
    "callsRT = 0"
   ]
  },
  {
   "cell_type": "code",
   "execution_count": null,
   "metadata": {},
   "outputs": [],
   "source": [
    "# Number of tweets to be pulled\n",
    "# Ego\n",
    "E = 10\n",
    "\n",
    "# Alter\n",
    "A = 10"
   ]
  },
  {
   "cell_type": "code",
   "execution_count": null,
   "metadata": {},
   "outputs": [],
   "source": [
    "# Existing user with tweets\n",
    "ego = api.user_timeline(screen_name = \"CUBoulder\", count = E, include_rts = False, exclude_replies = True)\n",
    "callsUT += 1"
   ]
  },
  {
   "cell_type": "code",
   "execution_count": null,
   "metadata": {},
   "outputs": [],
   "source": [
    "len(ego)"
   ]
  },
  {
   "cell_type": "code",
   "execution_count": null,
   "metadata": {},
   "outputs": [],
   "source": [
    "# Existing user with no tweets\n",
    "ego = api.user_timeline(screen_name = \"DeveloperYotam\", count = E, include_rts = False, exclude_replies = True)\n",
    "callsUT += 1"
   ]
  },
  {
   "cell_type": "code",
   "execution_count": null,
   "metadata": {},
   "outputs": [],
   "source": [
    "len(ego)"
   ]
  },
  {
   "cell_type": "code",
   "execution_count": null,
   "metadata": {},
   "outputs": [],
   "source": [
    "# Non-existing user\n",
    "ego = api.user_timeline(screen_name = \"fakeuserq4587937045\", count = E, include_rts = False, exclude_replies = True)\n",
    "callsUT += 1"
   ]
  },
  {
   "cell_type": "code",
   "execution_count": null,
   "metadata": {},
   "outputs": [],
   "source": [
    "# Handling errors\n",
    "ego = []\n",
    "egosn = \"CUBoulder\"\n",
    "\n",
    "try:\n",
    "    ego_raw = api.user_timeline(screen_name = egosn, count = E, include_rts = False, exclude_replies = True)\n",
    "except tweepy.TweepError:\n",
    "    print(\"fail!\")\n",
    "\n",
    "callsUT += 1"
   ]
  },
  {
   "cell_type": "code",
   "execution_count": null,
   "metadata": {},
   "outputs": [],
   "source": [
    "# Converting results to a list of json objects\n",
    "ego = [egotweet._json for egotweet in ego_raw]"
   ]
  },
  {
   "cell_type": "code",
   "execution_count": null,
   "metadata": {},
   "outputs": [],
   "source": [
    "# Writing ego tweets to a json file\n",
    "with open('egotweet.json', 'w') as file:\n",
    "    json.dump(ego, file)"
   ]
  },
  {
   "cell_type": "code",
   "execution_count": null,
   "metadata": {
    "scrolled": true
   },
   "outputs": [],
   "source": [
    "callsUT"
   ]
  },
  {
   "cell_type": "code",
   "execution_count": null,
   "metadata": {},
   "outputs": [],
   "source": [
    "# Looking at a json object\n",
    "ego[0]"
   ]
  },
  {
   "cell_type": "code",
   "execution_count": null,
   "metadata": {
    "scrolled": false
   },
   "outputs": [],
   "source": [
    "# Accessing an element of ego tweets\n",
    "ego[0][\"id_str\"]"
   ]
  },
  {
   "cell_type": "code",
   "execution_count": null,
   "metadata": {},
   "outputs": [],
   "source": [
    "# Storing one of ego's tweet id\n",
    "egoid = ego[0][\"id_str\"]"
   ]
  },
  {
   "cell_type": "code",
   "execution_count": null,
   "metadata": {},
   "outputs": [],
   "source": [
    "# Storing and printing ego tweet ids and retweet counts\n",
    "tweetids = []\n",
    "retweets = []\n",
    "\n",
    "if len(ego) != 0:\n",
    "    for egotweet in ego:\n",
    "        tweetids.append(egotweet[\"id_str\"])\n",
    "        retweets.append(egotweet[\"retweet_count\"])\n",
    "        print(egotweet[\"id_str\"],egotweet[\"retweet_count\"])"
   ]
  },
  {
   "cell_type": "markdown",
   "metadata": {},
   "source": [
    "<h2>3. Pulling retweeters</h2>"
   ]
  },
  {
   "cell_type": "code",
   "execution_count": null,
   "metadata": {},
   "outputs": [],
   "source": [
    "# Collecting Retweets\n",
    "egort = api.retweets(ego[0][\"id_str\"])\n",
    "callsRT += 1"
   ]
  },
  {
   "cell_type": "code",
   "execution_count": null,
   "metadata": {},
   "outputs": [],
   "source": [
    "len(egort)"
   ]
  },
  {
   "cell_type": "code",
   "execution_count": null,
   "metadata": {},
   "outputs": [],
   "source": [
    "callsRT"
   ]
  },
  {
   "cell_type": "code",
   "execution_count": null,
   "metadata": {},
   "outputs": [],
   "source": [
    "# Non-existing tweet\n",
    "egort = api.retweets(\"garblegarble\")\n",
    "callsRT += 1"
   ]
  },
  {
   "cell_type": "code",
   "execution_count": null,
   "metadata": {},
   "outputs": [],
   "source": [
    "# Note: callsRT did not increase in the last command\n",
    "callsRT"
   ]
  },
  {
   "cell_type": "code",
   "execution_count": null,
   "metadata": {},
   "outputs": [],
   "source": [
    "callsRT += 1"
   ]
  },
  {
   "cell_type": "code",
   "execution_count": null,
   "metadata": {},
   "outputs": [],
   "source": [
    "# Sleep for 10 seconds\n",
    "time.sleep(10)"
   ]
  },
  {
   "cell_type": "code",
   "execution_count": null,
   "metadata": {},
   "outputs": [],
   "source": [
    "# Collecting retweeters of ego tweets\n",
    "allretweeters = []\n",
    "self = []\n",
    "check = []\n",
    "\n",
    "for egotweet in ego:\n",
    "    retweeters = []\n",
    "    try:\n",
    "        selftweet = 0\n",
    "        if callsRT >= 75:\n",
    "            time.sleep(900)\n",
    "        egort_raw = api.retweets(egotweet[\"id_str\"])\n",
    "        egort = [egoretweet._json for egoretweet in egort_raw]\n",
    "        for retweet in egort:\n",
    "            if retweet[\"user\"][\"id_str\"]!=egoid:\n",
    "                allretweeters.append((egoid,retweet[\"user\"][\"id_str\"]))\n",
    "                retweeters.append(retweet[\"user\"][\"id_str\"])\n",
    "            else:\n",
    "                selftweet = 1\n",
    "        check.append(len(retweeters))\n",
    "        self.append(selftweet)                \n",
    "    except tweepy.TweepError:\n",
    "        check.append(0)\n",
    "        self.append(0)\n",
    "    \n",
    "    callsRT += 1"
   ]
  },
  {
   "cell_type": "code",
   "execution_count": null,
   "metadata": {},
   "outputs": [],
   "source": [
    "# Writing results to files\n",
    "with open('check.json', 'w') as file:\n",
    "    json.dump(check, file)\n",
    "\n",
    "with open('self.json', 'w') as file:\n",
    "    json.dump(self, file)\n",
    "    \n",
    "with open('allretweeters.json', 'w') as file:\n",
    "    json.dump(allretweeters, file)"
   ]
  },
  {
   "cell_type": "code",
   "execution_count": null,
   "metadata": {},
   "outputs": [],
   "source": [
    "# Printing tweet ids, retweet counts, \n",
    "# retweeters obtained, and whether a self tweet is included\n",
    "for a, b, c, d in zip(tweetids,retweets,check,self):\n",
    "    print(a, b, c, d)"
   ]
  },
  {
   "cell_type": "code",
   "execution_count": null,
   "metadata": {},
   "outputs": [],
   "source": [
    "len(allretweeters)"
   ]
  },
  {
   "cell_type": "code",
   "execution_count": null,
   "metadata": {},
   "outputs": [],
   "source": [
    "allretweeters"
   ]
  },
  {
   "cell_type": "markdown",
   "metadata": {},
   "source": [
    "<h2>4. Visualizing the network of retweeters</h2>"
   ]
  },
  {
   "cell_type": "code",
   "execution_count": null,
   "metadata": {},
   "outputs": [],
   "source": [
    "# Assigning edge weight to be number of tweets retweeted\n",
    "weight = Counter()\n",
    "for (i, j) in allretweeters:\n",
    "    weight[(i, j)] +=1"
   ]
  },
  {
   "cell_type": "code",
   "execution_count": null,
   "metadata": {},
   "outputs": [],
   "source": [
    "weight"
   ]
  },
  {
   "cell_type": "code",
   "execution_count": null,
   "metadata": {},
   "outputs": [],
   "source": [
    "# Defining weighted edges\n",
    "weighted_edges = list(weight.items())"
   ]
  },
  {
   "cell_type": "code",
   "execution_count": null,
   "metadata": {},
   "outputs": [],
   "source": [
    "weighted_edges"
   ]
  },
  {
   "cell_type": "code",
   "execution_count": null,
   "metadata": {},
   "outputs": [],
   "source": [
    "# Defining the network object\n",
    "G = networkx.Graph()\n",
    "G.add_edges_from([x[0] for x in weighted_edges])"
   ]
  },
  {
   "cell_type": "code",
   "execution_count": null,
   "metadata": {},
   "outputs": [],
   "source": [
    "# Visualizing the network\n",
    "networkx.draw(G, width=[x[1] for x in weighted_edges])"
   ]
  },
  {
   "cell_type": "markdown",
   "metadata": {},
   "source": [
    "<h2>5. Pulling retweeter tweets</h2>"
   ]
  },
  {
   "cell_type": "code",
   "execution_count": null,
   "metadata": {},
   "outputs": [],
   "source": [
    "# Defining the set of unique retweeters\n",
    "unique = [x[0][1] for x in weighted_edges]"
   ]
  },
  {
   "cell_type": "code",
   "execution_count": null,
   "metadata": {},
   "outputs": [],
   "source": [
    "len(unique)"
   ]
  },
  {
   "cell_type": "code",
   "execution_count": null,
   "metadata": {},
   "outputs": [],
   "source": [
    "unique"
   ]
  },
  {
   "cell_type": "code",
   "execution_count": null,
   "metadata": {},
   "outputs": [],
   "source": [
    "callsUT"
   ]
  },
  {
   "cell_type": "code",
   "execution_count": null,
   "metadata": {},
   "outputs": [],
   "source": [
    "# Collecting and storing the tweets of retweeters\n",
    "alter = []\n",
    "alters = []\n",
    "\n",
    "for retweeter in unique:\n",
    "    try:\n",
    "        if callsUT >= 900:\n",
    "            time.sleep(900)\n",
    "        alter_raw = api.user_timeline(retweeter, count = A, include_rts = False, exclude_replies = True)\n",
    "        alter = [altertweet._json for altertweet in alter_raw]\n",
    "        alters.append(alter)\n",
    "    except tweepy.TweepError:\n",
    "        print(\"fail!\")\n",
    "    callsUT += 1"
   ]
  },
  {
   "cell_type": "code",
   "execution_count": null,
   "metadata": {},
   "outputs": [],
   "source": [
    "with open('alters.json', 'w') as file:\n",
    "    json.dump(alters, file)"
   ]
  },
  {
   "cell_type": "code",
   "execution_count": null,
   "metadata": {},
   "outputs": [],
   "source": [
    "callsUT"
   ]
  },
  {
   "cell_type": "code",
   "execution_count": null,
   "metadata": {},
   "outputs": [],
   "source": [
    "len(alters)"
   ]
  },
  {
   "cell_type": "code",
   "execution_count": null,
   "metadata": {},
   "outputs": [],
   "source": [
    "# Printing the number of tweets pulled for each retweeter\n",
    "for alt in alters:\n",
    "    print(len(alt))"
   ]
  },
  {
   "cell_type": "code",
   "execution_count": null,
   "metadata": {},
   "outputs": [],
   "source": [
    "# Storing and printing alter ids, tweet ids, and retweet counts\n",
    "altids = []\n",
    "alttweetids = []\n",
    "altretweets = []\n",
    "\n",
    "for alt in alters:\n",
    "    for alttweet in alt:\n",
    "        altids.append(alttweet[\"user\"][\"id_str\"])\n",
    "        alttweetids.append(alttweet[\"id_str\"])\n",
    "        altretweets.append(alttweet[\"retweet_count\"])\n",
    "        print(alttweet[\"user\"][\"id_str\"],alttweet[\"id_str\"],alttweet[\"retweet_count\"])      "
   ]
  },
  {
   "cell_type": "markdown",
   "metadata": {},
   "source": [
    "<h2>6. Pulling retweeters of retweeters</h2>"
   ]
  },
  {
   "cell_type": "code",
   "execution_count": null,
   "metadata": {},
   "outputs": [],
   "source": [
    "# Collecting retweeters of alter tweets\n",
    "allalt = []\n",
    "altself = []\n",
    "altcheck = []\n",
    "\n",
    "for alt in alters:\n",
    "    for alttweet in alt:\n",
    "        altid = alttweet[\"user\"][\"id_str\"]\n",
    "        altretweeters = []\n",
    "        try:\n",
    "            selftweet = 0\n",
    "            if callsRT >= 75:\n",
    "                time.sleep(900)\n",
    "            altrt_raw = api.retweets(alttweet[\"id_str\"])\n",
    "            altrt = [altretweet._json for altretweet in altrt_raw]\n",
    "            for retweet in altrt:\n",
    "                if retweet[\"user\"][\"id_str\"]!=altid:\n",
    "                    allalt.append((altid,retweet[\"user\"][\"id_str\"]))\n",
    "                    altretweeters.append(retweet[\"user\"][\"id_str\"])\n",
    "                else:\n",
    "                    selftweet = 1\n",
    "            altcheck.append(len(altretweeters))\n",
    "            altself.append(selftweet)                \n",
    "        except tweepy.TweepError:\n",
    "            altcheck.append(0)\n",
    "            altself.append(0)\n",
    "    \n",
    "        callsRT += 1"
   ]
  },
  {
   "cell_type": "code",
   "execution_count": null,
   "metadata": {},
   "outputs": [],
   "source": [
    "# Writing results to files\n",
    "with open('altcheck.json', 'w') as file:\n",
    "    json.dump(altcheck, file)\n",
    "\n",
    "with open('altself.json', 'w') as file:\n",
    "    json.dump(altself, file)\n",
    "    \n",
    "with open('altretweeters.json', 'w') as file:\n",
    "    json.dump(altretweeters, file)\n",
    "\n",
    "with open('allalt.json', 'w') as file:\n",
    "    json.dump(allalt, file)"
   ]
  },
  {
   "cell_type": "code",
   "execution_count": null,
   "metadata": {},
   "outputs": [],
   "source": [
    "# Printing alter user ids, tweet ids, retweet counts, \n",
    "# retweeters obtained, and whether a self tweet is included\n",
    "for a, b, c, d, e in zip(altids,alttweetids,altretweets,altcheck,altself):\n",
    "    print(a, b, c, d, e)"
   ]
  },
  {
   "cell_type": "code",
   "execution_count": null,
   "metadata": {},
   "outputs": [],
   "source": [
    "len(allalt)"
   ]
  },
  {
   "cell_type": "code",
   "execution_count": null,
   "metadata": {},
   "outputs": [],
   "source": [
    "allalt"
   ]
  },
  {
   "cell_type": "markdown",
   "metadata": {},
   "source": [
    "<h2>7. Visualizing the full network of retweeters</h2>"
   ]
  },
  {
   "cell_type": "code",
   "execution_count": null,
   "metadata": {},
   "outputs": [],
   "source": [
    "weight = Counter()\n",
    "for (i, j) in allalt:\n",
    "    weight[(i, j)] +=1"
   ]
  },
  {
   "cell_type": "code",
   "execution_count": null,
   "metadata": {},
   "outputs": [],
   "source": [
    "weight"
   ]
  },
  {
   "cell_type": "code",
   "execution_count": null,
   "metadata": {},
   "outputs": [],
   "source": [
    "all_edges = weighted_edges + list(weight.items())"
   ]
  },
  {
   "cell_type": "code",
   "execution_count": null,
   "metadata": {},
   "outputs": [],
   "source": [
    "all_edges"
   ]
  },
  {
   "cell_type": "code",
   "execution_count": null,
   "metadata": {},
   "outputs": [],
   "source": [
    "# Defining the full network object\n",
    "G = networkx.Graph()\n",
    "G.add_edges_from([x[0] for x in all_edges])"
   ]
  },
  {
   "cell_type": "code",
   "execution_count": null,
   "metadata": {},
   "outputs": [],
   "source": [
    "# Visualizing the full network\n",
    "networkx.draw(G, width=[x[1] for x in all_edges])"
   ]
  }
 ],
 "metadata": {
  "kernelspec": {
   "display_name": "Python 3",
   "language": "python",
   "name": "python3"
  },
  "language_info": {
   "codemirror_mode": {
    "name": "ipython",
    "version": 3
   },
   "file_extension": ".py",
   "mimetype": "text/x-python",
   "name": "python",
   "nbconvert_exporter": "python",
   "pygments_lexer": "ipython3",
   "version": "3.6.5"
  }
 },
 "nbformat": 4,
 "nbformat_minor": 2
}
